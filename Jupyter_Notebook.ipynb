{
 "cells": [
  {
   "cell_type": "markdown",
   "id": "07e4aa92-521b-4e8a-a152-5d9a7816c6a4",
   "metadata": {},
   "source": [
    "# Data Science Tools and Ecosystem"
   ]
  },
  {
   "cell_type": "markdown",
   "id": "bb7f37f5-1805-491a-a5ad-d1924ea8295e",
   "metadata": {},
   "source": [
    "This notebook summarizees Data Science Tools and Ecosystem. "
   ]
  },
  {
   "cell_type": "markdown",
   "id": "bbc80622-4c02-440d-a829-12a3a30a0246",
   "metadata": {},
   "source": [
    "**Objectives:**\n",
    "- Learn different languages utilized in Data Science\n",
    "- Learn different libraries utilized in Data Science\n",
    "- Learn different tools utilized in Data Science\n",
    "- Learn how to write simple arithmetic expressions\n",
    "- Learn how to write simple conversions"
   ]
  },
  {
   "cell_type": "markdown",
   "id": "204bf5a9-0a4f-4afe-b857-0f4bdf2bdd9e",
   "metadata": {},
   "source": [
    "Data Scientists use a wide range of languages, some of which include: \n",
    "1. Python\n",
    "2. R\n",
    "3. SQL"
   ]
  },
  {
   "cell_type": "markdown",
   "id": "d07f7407-f949-4eb8-8f44-e38c1bea8cd4",
   "metadata": {},
   "source": [
    "Data Scientists also utilize various libraries, some of which include: \n",
    "1. Pandas\n",
    "2. NumPy\n",
    "3. Matplotlib\n",
    "4. Ggplot2\n",
    "5. Caret\n"
   ]
  },
  {
   "cell_type": "markdown",
   "id": "2315ff37-cfc6-481d-9db8-ce38143e4ac6",
   "metadata": {},
   "source": [
    "| Data Science Tools|\n",
    "| ------------------- |\n",
    "|Juypter Notebook|\n",
    "|RStudio|\n",
    "|VS Code|"
   ]
  },
  {
   "cell_type": "markdown",
   "id": "c11d102a-8a51-47ec-8e58-88777a59ed1b",
   "metadata": {},
   "source": [
    "### Here are a couple of examples of evaluating simple arithmetic expressions in Python: "
   ]
  },
  {
   "cell_type": "code",
   "execution_count": 2,
   "id": "301217d9-1519-4faf-9978-58288960e969",
   "metadata": {},
   "outputs": [
    {
     "data": {
      "text/plain": [
       "17"
      ]
     },
     "execution_count": 2,
     "metadata": {},
     "output_type": "execute_result"
    }
   ],
   "source": [
    "# This is an example of an arithmetic expression to multiply and then add integers\n",
    "\n",
    "(3*4)+5"
   ]
  },
  {
   "cell_type": "code",
   "execution_count": 9,
   "id": "f429a813-bdf4-4a5f-9ff1-5c890dfda15d",
   "metadata": {},
   "outputs": [
    {
     "data": {
      "text/plain": [
       "3.0"
      ]
     },
     "execution_count": 9,
     "metadata": {},
     "output_type": "execute_result"
    }
   ],
   "source": [
    "# This is an example of an arithmetic expression to divide and then subtract integers\n",
    "\n",
    "(20/4)-2"
   ]
  },
  {
   "cell_type": "code",
   "execution_count": 8,
   "id": "45417c34-7af5-4bed-8a66-be9831bb6363",
   "metadata": {},
   "outputs": [
    {
     "name": "stdout",
     "output_type": "stream",
     "text": [
      "3.3333333333333335\n"
     ]
    }
   ],
   "source": [
    "# The following will convert 200 minutes to hours by dividing by 60\n",
    "\n",
    "minutes = 200\n",
    "minutes_to_hours_conversion = (minutes)/60\n",
    "print(minutes_to_hours_conversion)"
   ]
  },
  {
   "cell_type": "code",
   "execution_count": 10,
   "id": "dc9760d5-a9f3-4b4f-bccf-725d3aeed9ef",
   "metadata": {},
   "outputs": [
    {
     "name": "stdout",
     "output_type": "stream",
     "text": [
      "10000\n"
     ]
    }
   ],
   "source": [
    "# The following will convert 10 kilometers to meters\n",
    "\n",
    "kilometers = 10\n",
    "kilometers_to_meters_conversion = (kilometers *1000)\n",
    "print(kilometers_to_meters_conversion)"
   ]
  },
  {
   "cell_type": "markdown",
   "id": "857ffd58-7c7a-4e9f-97a3-f702832d1936",
   "metadata": {},
   "source": [
    "## Author:\n",
    "Sharan Subramanian"
   ]
  }
 ],
 "metadata": {
  "kernelspec": {
   "display_name": "Python 3 (ipykernel)",
   "language": "python",
   "name": "python3"
  },
  "language_info": {
   "codemirror_mode": {
    "name": "ipython",
    "version": 3
   },
   "file_extension": ".py",
   "mimetype": "text/x-python",
   "name": "python",
   "nbconvert_exporter": "python",
   "pygments_lexer": "ipython3",
   "version": "3.12.9"
  }
 },
 "nbformat": 4,
 "nbformat_minor": 5
}
