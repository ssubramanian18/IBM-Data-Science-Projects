{
    "cells": [
        {
            "cell_type": "markdown",
            "metadata": {
                "collapsed": true,
                "id": "51246c9c-749f-43ad-93b2-5fb553a779bb",
                "jupyter": {
                    "outputs_hidden": true
                }
            },
            "source": "# My Jupyter Notebook on IBM watsonx.ai"
        },
        {
            "cell_type": "markdown",
            "metadata": {
                "id": "217ab763-22bd-48cc-b3a1-0b17345aee61"
            },
            "source": "**Sharan Subramanian**  \nAspiring Data Scientist"
        },
        {
            "cell_type": "markdown",
            "metadata": {
                "id": "3ff38d30-61f6-4c2e-9d53-b0cb2f81b9e2"
            },
            "source": "*Driven by my curiosity, I found the field of data science and learned how individuals analyze vast datasets to uncover insights to solve real-world issues. Now, I plan to learn essential skills and strengthen my knowledge to make my data science journey successful.*\n\n"
        },
        {
            "cell_type": "markdown",
            "metadata": {
                "id": "c43515d2-983b-45b4-b998-bdab4e845cfa"
            },
            "source": "### The code below converts a given temperature (in celsius) to fahrenheit. "
        },
        {
            "cell_type": "code",
            "execution_count": 8,
            "metadata": {
                "id": "4077b3cf-ded6-483d-a831-4d8c764645e5"
            },
            "outputs": [
                {
                    "name": "stdin",
                    "output_type": "stream",
                    "text": "Enter a temperature in celsius:  100\n"
                },
                {
                    "name": "stdout",
                    "output_type": "stream",
                    "text": "212.0\n"
                }
            ],
            "source": "c_temperature = int(input(\"Enter a temperature in celsius: \"))\nc_to_f_convertion  = (c_temperature*(9/5))+32\nprint(c_to_f_convertion)"
        },
        {
            "cell_type": "markdown",
            "metadata": {
                "id": "0e0808dc-0138-41b9-bb00-db8640914d1e"
            },
            "source": "One of the main reasons I enrolled in the IBM Data Science Professional Certificate was because of the various skills I would learn. These included: \n- Data Literary\n- Data Mining\n- Exploratory Data Analysis\n- Interactive Data Visualization\n\nSo far, I've completed the following courses: \n1. *What is Data Science?*\n2. *Tools for Data Science*\n\nThe link to the certificate on Coursea can be found here: \n[IBM Data Science Professional Certificate](https://www.coursera.org/professional-certificates/ibm-data-science/paidmedia?utm_medium=sem&amp;utm_source=gg&amp;utm_campaign=b2c_namer_ibm-data-science_ibm_ftcof_professional-certificates_px_dr_bau_gg_sem_pr-bd_us-ca_en_m_hyb_19-05_x&amp;campaignid=1876641588&amp;adgroupid=70740725700&amp;device=c&amp;keyword=ibm%20data%20science%20professional%20certificate&amp;matchtype=b&amp;network=g&amp;devicemodel=&amp;creativeid=576154924727&amp;assetgroupid=&amp;targetid=kwd-645281417434&amp;extensionid=&amp;placement=&amp;gad_source=1&amp;gad_campaignid=1876641588&amp;gbraid=0AAAAADdKX6attKz6jJXxRYrGLX-NkvxkN&amp;gclid=CjwKCAjw3f_BBhAPEiwAaA3K5G9ZxvUajXrjr1cl_5VK4Mo3dD_3dOMGfg8MVwB1bOVGjQInhOcLeBoCengQAvD_BwE#courses)"
        }
    ],
    "metadata": {
        "kernelspec": {
            "display_name": "Python 3.11",
            "language": "python",
            "name": "python3"
        },
        "language_info": {
            "codemirror_mode": {
                "name": "ipython",
                "version": 3
            },
            "file_extension": ".py",
            "mimetype": "text/x-python",
            "name": "python",
            "nbconvert_exporter": "python",
            "pygments_lexer": "ipython3",
            "version": "3.11.9"
        }
    },
    "nbformat": 4,
    "nbformat_minor": 4
}